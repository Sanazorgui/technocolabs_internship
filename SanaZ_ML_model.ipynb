{
  "nbformat": 4,
  "nbformat_minor": 0,
  "metadata": {
    "colab": {
      "name": "ML_model.ipynb",
      "provenance": [],
      "collapsed_sections": []
    },
    "kernelspec": {
      "name": "python3",
      "display_name": "Python 3"
    },
    "language_info": {
      "name": "python"
    }
  },
  "cells": [
    {
      "cell_type": "markdown",
      "source": [
        "# Problem statement\n",
        "  In this notebook we will train our  cleaned prosper Loan data on a Regularized Logistic Regression Model by applying severeal ML techniques in order to reach the best results\n",
        "  Then we will compare the different parameters combinations in order to find the best results"
      ],
      "metadata": {
        "id": "Xd9a4ApFt2aI"
      }
    },
    {
      "cell_type": "markdown",
      "source": [
        "## Importing the cleaned CSV file"
      ],
      "metadata": {
        "id": "Dve-VaGbFVql"
      }
    },
    {
      "cell_type": "code",
      "source": [
        "!pip install -U -q PyDrive\n",
        "\n",
        "from pydrive.auth import GoogleAuth\n",
        "from pydrive.drive import GoogleDrive\n",
        "from google.colab import auth\n",
        "from oauth2client.client import GoogleCredentials\n",
        "\n",
        "\n",
        "# Authenticate and create the PyDrive client.\n",
        "auth.authenticate_user()\n",
        "gauth = GoogleAuth()\n",
        "gauth.credentials = GoogleCredentials.get_application_default()\n",
        "drive = GoogleDrive(gauth)\n"
      ],
      "metadata": {
        "id": "HlOxnjT6dcH6"
      },
      "execution_count": null,
      "outputs": []
    },
    {
      "cell_type": "code",
      "source": [
        "link = 'https://drive.google.com/file/d/1HsRMSs2A120li2AZgvAtyqXHLaDAiSgn/view?usp=sharing'\n",
        " \n",
        "import pandas as pd\n",
        " \n",
        "# to get the id part of the file\n",
        "id = link.split(\"/\")[-2]\n",
        " \n",
        "downloaded = drive.CreateFile({'id':id})\n",
        "downloaded.GetContentFile('xclara.csv') \n",
        " \n",
        "df = pd.read_csv('xclara.csv')"
      ],
      "metadata": {
        "id": "rJywvpyydqMt"
      },
      "execution_count": null,
      "outputs": []
    },
    {
      "cell_type": "markdown",
      "source": [
        "## Importing the necessary libraries for the modelling"
      ],
      "metadata": {
        "id": "sUWsdER-FhWo"
      }
    },
    {
      "cell_type": "code",
      "execution_count": null,
      "metadata": {
        "id": "qnfQGfKSV-wl"
      },
      "outputs": [],
      "source": [
        "import seaborn as sns \n",
        "from sklearn.linear_model import LogisticRegression\n",
        "from sklearn.model_selection import train_test_split\n",
        "from sklearn.preprocessing import StandardScaler\n",
        "from sklearn.model_selection import GridSearchCV"
      ]
    },
    {
      "cell_type": "markdown",
      "source": [
        "## Splitting the Data into features (X) and labels (y) to be predicted "
      ],
      "metadata": {
        "id": "mp5yabHMFpBs"
      }
    },
    {
      "cell_type": "code",
      "source": [
        "X= df.drop(columns=['ListingCreationDate', 'DateCreditPulled','FirstRecordedCreditLine','IncomeRange','LoanOriginationDate','target','ClosedDate'])\n",
        "y = df['target']"
      ],
      "metadata": {
        "id": "CETxx-Ilidld"
      },
      "execution_count": null,
      "outputs": []
    },
    {
      "cell_type": "markdown",
      "source": [
        "## Splitting the Data into a training test (80% of the data) and a test set (20% of the data)"
      ],
      "metadata": {
        "id": "joupfy3PFyKL"
      }
    },
    {
      "cell_type": "code",
      "source": [
        "X_train, X_test, y_train, y_test = train_test_split(X, y, test_size=0.2, random_state=19)"
      ],
      "metadata": {
        "id": "LAvVPtpse0XN"
      },
      "execution_count": null,
      "outputs": []
    },
    {
      "cell_type": "markdown",
      "source": [
        "## Applying GridSearchCV \n",
        "The logistic regression usually dosen't have a lot of hyperparameters to be tuned. Therefore we used GridSearchCV without RandomizedSearchCV first to find the best parameters for our task"
      ],
      "metadata": {
        "id": "TosJ8UhdGkvb"
      }
    },
    {
      "cell_type": "code",
      "source": [
        "# Creating the parameters Grid \n",
        "log_reg_grid = {\"C\" : [.001,0.0009,0.00095],\n",
        "               \"solver\": ['newton-cg', 'lbfgs', 'liblinear'],\n",
        "               \"penalty\" : ['l1','l2']}"
      ],
      "metadata": {
        "id": "Ygz7ilBUYySi"
      },
      "execution_count": null,
      "outputs": []
    },
    {
      "cell_type": "code",
      "source": [
        "# Applying GridSearchCV on our data\n",
        "gs_log_reg = GridSearchCV(LogisticRegression(),\n",
        "                         param_grid = log_reg_grid,\n",
        "                         cv = 20,\n",
        "                         verbose=True) #verbose to have outputs of what happening with GridSearchCV\n",
        "# Fit grid hyperparameter search for LogisticRegression\n",
        "gs_log_reg.fit(X_train,y_train)"
      ],
      "metadata": {
        "id": "_G4dllNNVJ8B"
      },
      "execution_count": null,
      "outputs": []
    },
    {
      "cell_type": "code",
      "source": [
        "# Extracting the best parameters from the GridSearchCV model\n",
        "gs_log_reg.best_params_"
      ],
      "metadata": {
        "colab": {
          "base_uri": "https://localhost:8080/"
        },
        "id": "5x3_Fdu8ZYVC",
        "outputId": "5bdcca62-990d-4cb9-9819-cad4b7b65a74"
      },
      "execution_count": null,
      "outputs": [
        {
          "output_type": "execute_result",
          "data": {
            "text/plain": [
              "{'C': 0.0009, 'penalty': 'l2', 'solver': 'newton-cg'}"
            ]
          },
          "metadata": {},
          "execution_count": 23
        }
      ]
    },
    {
      "cell_type": "code",
      "source": [
        "# The test accuracy after using the best parameters\n",
        "gs_log_reg.score(X_test,y_test)"
      ],
      "metadata": {
        "colab": {
          "base_uri": "https://localhost:8080/"
        },
        "id": "s7a6nXnVZerE",
        "outputId": "98cf2cf0-045f-42c2-a029-6531c6ece426"
      },
      "execution_count": null,
      "outputs": [
        {
          "output_type": "execute_result",
          "data": {
            "text/plain": [
              "0.967519494747696"
            ]
          },
          "metadata": {},
          "execution_count": 24
        }
      ]
    },
    {
      "cell_type": "markdown",
      "source": [
        "## Scaling the data\n",
        "Because the regularization penalty is comprised of the sum of the absolute value of the coefficients, It is a common approach to scale the data so the coefficients are all based on the same scale."
      ],
      "metadata": {
        "id": "fsHk9ZH4GCgs"
      }
    },
    {
      "cell_type": "code",
      "source": [
        "# Create a scaler object\n",
        "sc = StandardScaler()\n",
        "\n",
        "# Fit the scaler to the training data and transform\n",
        "X_train_std = sc.fit_transform(X_train)\n",
        "\n",
        "# Apply the scaler to the test data\n",
        "X_test_std = sc.transform(X_test)\n"
      ],
      "metadata": {
        "id": "zWI4PtiNU9bs"
      },
      "execution_count": null,
      "outputs": []
    },
    {
      "cell_type": "markdown",
      "source": [
        "After scaling the features we will use them on our model containing the best hyperparameters"
      ],
      "metadata": {
        "id": "iz7ttUd6Ho-t"
      }
    },
    {
      "cell_type": "code",
      "source": [
        "clf = LogisticRegression(penalty='l2', C=0.0009 , solver='newton-cg')\n",
        "clf.fit(X_train, y_train)\n",
        "print('Training accuracy:', clf.score(X_train_std, y_train))\n",
        "print('Test accuracy:', clf.score(X_test_std, y_test))\n",
        "print('')\n"
      ],
      "metadata": {
        "colab": {
          "base_uri": "https://localhost:8080/"
        },
        "id": "QXFWLP9BVBgw",
        "outputId": "babe4eaa-2dcf-4114-9ec9-a57645e0bdee"
      },
      "execution_count": null,
      "outputs": [
        {
          "output_type": "stream",
          "name": "stdout",
          "text": [
            "Training accuracy: 0.6625743148533036\n",
            "Test accuracy: 0.664948121415222\n",
            "\n"
          ]
        },
        {
          "output_type": "stream",
          "name": "stderr",
          "text": [
            "/usr/local/lib/python3.7/dist-packages/sklearn/utils/optimize.py:212: ConvergenceWarning: newton-cg failed to converge. Increase the number of iterations.\n",
            "  ConvergenceWarning,\n",
            "/usr/local/lib/python3.7/dist-packages/sklearn/base.py:451: UserWarning: X does not have valid feature names, but LogisticRegression was fitted with feature names\n",
            "  \"X does not have valid feature names, but\"\n",
            "/usr/local/lib/python3.7/dist-packages/sklearn/base.py:451: UserWarning: X does not have valid feature names, but LogisticRegression was fitted with feature names\n",
            "  \"X does not have valid feature names, but\"\n"
          ]
        }
      ]
    },
    {
      "cell_type": "markdown",
      "source": [
        "As it is shown before, scaling the data affected the model training badly. So we will use the data without scaling it"
      ],
      "metadata": {
        "id": "7yxwLQz-H9mV"
      }
    },
    {
      "cell_type": "markdown",
      "source": [
        "## Visualizing the results in a Dataframe and a heatmap"
      ],
      "metadata": {
        "id": "tQ7ciwNyISeE"
      }
    },
    {
      "cell_type": "code",
      "source": [
        "#Showing results\n",
        "Index = ['Training Accuracy','Test Accuracy']\n",
        "Cols = ['Logistic regression with scaled Data', 'Logistic regression without scaled Data']\n",
        "results = pd.DataFrame(data=[[ 0.6625743148533036, 0.9690979103227157],[0.664948121415222, 0.967519494747696]],index=Index,columns=Cols)\n",
        "results"
      ],
      "metadata": {
        "colab": {
          "base_uri": "https://localhost:8080/",
          "height": 112
        },
        "id": "l5jIUDbqINeI",
        "outputId": "5b351e54-8694-428a-da99-4f96339bb58e"
      },
      "execution_count": null,
      "outputs": [
        {
          "output_type": "execute_result",
          "data": {
            "text/plain": [
              "                   Logistic regression with scaled Data  \\\n",
              "Training Accuracy                              0.662574   \n",
              "Test Accuracy                                  0.664948   \n",
              "\n",
              "                   Logistic regression without scaled Data  \n",
              "Training Accuracy                                 0.969098  \n",
              "Test Accuracy                                     0.967519  "
            ],
            "text/html": [
              "\n",
              "  <div id=\"df-dab3e2f8-d51f-4752-b52a-58b301cf0f5d\">\n",
              "    <div class=\"colab-df-container\">\n",
              "      <div>\n",
              "<style scoped>\n",
              "    .dataframe tbody tr th:only-of-type {\n",
              "        vertical-align: middle;\n",
              "    }\n",
              "\n",
              "    .dataframe tbody tr th {\n",
              "        vertical-align: top;\n",
              "    }\n",
              "\n",
              "    .dataframe thead th {\n",
              "        text-align: right;\n",
              "    }\n",
              "</style>\n",
              "<table border=\"1\" class=\"dataframe\">\n",
              "  <thead>\n",
              "    <tr style=\"text-align: right;\">\n",
              "      <th></th>\n",
              "      <th>Logistic regression with scaled Data</th>\n",
              "      <th>Logistic regression without scaled Data</th>\n",
              "    </tr>\n",
              "  </thead>\n",
              "  <tbody>\n",
              "    <tr>\n",
              "      <th>Training Accuracy</th>\n",
              "      <td>0.662574</td>\n",
              "      <td>0.969098</td>\n",
              "    </tr>\n",
              "    <tr>\n",
              "      <th>Test Accuracy</th>\n",
              "      <td>0.664948</td>\n",
              "      <td>0.967519</td>\n",
              "    </tr>\n",
              "  </tbody>\n",
              "</table>\n",
              "</div>\n",
              "      <button class=\"colab-df-convert\" onclick=\"convertToInteractive('df-dab3e2f8-d51f-4752-b52a-58b301cf0f5d')\"\n",
              "              title=\"Convert this dataframe to an interactive table.\"\n",
              "              style=\"display:none;\">\n",
              "        \n",
              "  <svg xmlns=\"http://www.w3.org/2000/svg\" height=\"24px\"viewBox=\"0 0 24 24\"\n",
              "       width=\"24px\">\n",
              "    <path d=\"M0 0h24v24H0V0z\" fill=\"none\"/>\n",
              "    <path d=\"M18.56 5.44l.94 2.06.94-2.06 2.06-.94-2.06-.94-.94-2.06-.94 2.06-2.06.94zm-11 1L8.5 8.5l.94-2.06 2.06-.94-2.06-.94L8.5 2.5l-.94 2.06-2.06.94zm10 10l.94 2.06.94-2.06 2.06-.94-2.06-.94-.94-2.06-.94 2.06-2.06.94z\"/><path d=\"M17.41 7.96l-1.37-1.37c-.4-.4-.92-.59-1.43-.59-.52 0-1.04.2-1.43.59L10.3 9.45l-7.72 7.72c-.78.78-.78 2.05 0 2.83L4 21.41c.39.39.9.59 1.41.59.51 0 1.02-.2 1.41-.59l7.78-7.78 2.81-2.81c.8-.78.8-2.07 0-2.86zM5.41 20L4 18.59l7.72-7.72 1.47 1.35L5.41 20z\"/>\n",
              "  </svg>\n",
              "      </button>\n",
              "      \n",
              "  <style>\n",
              "    .colab-df-container {\n",
              "      display:flex;\n",
              "      flex-wrap:wrap;\n",
              "      gap: 12px;\n",
              "    }\n",
              "\n",
              "    .colab-df-convert {\n",
              "      background-color: #E8F0FE;\n",
              "      border: none;\n",
              "      border-radius: 50%;\n",
              "      cursor: pointer;\n",
              "      display: none;\n",
              "      fill: #1967D2;\n",
              "      height: 32px;\n",
              "      padding: 0 0 0 0;\n",
              "      width: 32px;\n",
              "    }\n",
              "\n",
              "    .colab-df-convert:hover {\n",
              "      background-color: #E2EBFA;\n",
              "      box-shadow: 0px 1px 2px rgba(60, 64, 67, 0.3), 0px 1px 3px 1px rgba(60, 64, 67, 0.15);\n",
              "      fill: #174EA6;\n",
              "    }\n",
              "\n",
              "    [theme=dark] .colab-df-convert {\n",
              "      background-color: #3B4455;\n",
              "      fill: #D2E3FC;\n",
              "    }\n",
              "\n",
              "    [theme=dark] .colab-df-convert:hover {\n",
              "      background-color: #434B5C;\n",
              "      box-shadow: 0px 1px 3px 1px rgba(0, 0, 0, 0.15);\n",
              "      filter: drop-shadow(0px 1px 2px rgba(0, 0, 0, 0.3));\n",
              "      fill: #FFFFFF;\n",
              "    }\n",
              "  </style>\n",
              "\n",
              "      <script>\n",
              "        const buttonEl =\n",
              "          document.querySelector('#df-dab3e2f8-d51f-4752-b52a-58b301cf0f5d button.colab-df-convert');\n",
              "        buttonEl.style.display =\n",
              "          google.colab.kernel.accessAllowed ? 'block' : 'none';\n",
              "\n",
              "        async function convertToInteractive(key) {\n",
              "          const element = document.querySelector('#df-dab3e2f8-d51f-4752-b52a-58b301cf0f5d');\n",
              "          const dataTable =\n",
              "            await google.colab.kernel.invokeFunction('convertToInteractive',\n",
              "                                                     [key], {});\n",
              "          if (!dataTable) return;\n",
              "\n",
              "          const docLinkHtml = 'Like what you see? Visit the ' +\n",
              "            '<a target=\"_blank\" href=https://colab.research.google.com/notebooks/data_table.ipynb>data table notebook</a>'\n",
              "            + ' to learn more about interactive tables.';\n",
              "          element.innerHTML = '';\n",
              "          dataTable['output_type'] = 'display_data';\n",
              "          await google.colab.output.renderOutput(dataTable, element);\n",
              "          const docLink = document.createElement('div');\n",
              "          docLink.innerHTML = docLinkHtml;\n",
              "          element.appendChild(docLink);\n",
              "        }\n",
              "      </script>\n",
              "    </div>\n",
              "  </div>\n",
              "  "
            ]
          },
          "metadata": {},
          "execution_count": 58
        }
      ]
    },
    {
      "cell_type": "code",
      "source": [
        "sns.heatmap(results,annot=True,linewidths=.5);"
      ],
      "metadata": {
        "colab": {
          "base_uri": "https://localhost:8080/",
          "height": 452
        },
        "id": "2KsmSl4pvTXj",
        "outputId": "f0dde72c-c2ff-4190-8721-f7f44a077a44"
      },
      "execution_count": null,
      "outputs": [
        {
          "output_type": "display_data",
          "data": {
            "text/plain": [
              "<Figure size 432x288 with 2 Axes>"
            ],
            "image/png": "[encoded data removed]"
          },
          "metadata": {
            "needs_background": "light"
          }
        }
      ]
    }
  ]
}
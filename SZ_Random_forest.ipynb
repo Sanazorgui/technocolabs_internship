{
  "nbformat": 4,
  "nbformat_minor": 0,
  "metadata": {
    "colab": {
      "name": "SZ_Random_forest.ipynb",
      "provenance": [],
      "collapsed_sections": []
    },
    "kernelspec": {
      "name": "python3",
      "display_name": "Python 3"
    },
    "language_info": {
      "name": "python"
    },
    "accelerator": "TPU",
    "gpuClass": "standard"
  },
  "cells": [
    {
      "cell_type": "markdown",
      "source": [
        "# Problem statement\n",
        "  In this notebook we will train our  cleaned prosper Loan data on a **Random Forest** Model by applying severeal hyperparameter tuning options  in order to reach the highest accuracy\n",
        "  Then we will compare the different parameters combinations in order to find the best results"
      ],
      "metadata": {
        "id": "QzCm1SWUEMAM"
      }
    },
    {
      "cell_type": "code",
      "execution_count": null,
      "metadata": {
        "id": "SjhUYiDVpQTB"
      },
      "outputs": [],
      "source": [
        "!pip install -U -q PyDrive\n",
        "\n",
        "from pydrive.auth import GoogleAuth\n",
        "from pydrive.drive import GoogleDrive\n",
        "from google.colab import auth\n",
        "from oauth2client.client import GoogleCredentials\n",
        "\n",
        "\n",
        "# Authenticate and create the PyDrive client.\n",
        "auth.authenticate_user()\n",
        "gauth = GoogleAuth()\n",
        "gauth.credentials = GoogleCredentials.get_application_default()\n",
        "drive = GoogleDrive(gauth)\n"
      ]
    },
    {
      "cell_type": "markdown",
      "source": [
        "## Importing the cleaned CSV file"
      ],
      "metadata": {
        "id": "5sOaIexXEYuc"
      }
    },
    {
      "cell_type": "code",
      "source": [
        "link = 'https://drive.google.com/file/d/1HsRMSs2A120li2AZgvAtyqXHLaDAiSgn/view?usp=sharing'\n",
        " \n",
        "import pandas as pd\n",
        " \n",
        "# to get the id part of the file\n",
        "id = link.split(\"/\")[-2]\n",
        " \n",
        "downloaded = drive.CreateFile({'id':id})\n",
        "downloaded.GetContentFile('xclara.csv') \n",
        " \n",
        "df = pd.read_csv('xclara.csv')"
      ],
      "metadata": {
        "id": "Uk15UnfJpSXK"
      },
      "execution_count": null,
      "outputs": []
    },
    {
      "cell_type": "markdown",
      "source": [
        "## Importing the necessary libraries for the modelling"
      ],
      "metadata": {
        "id": "8V-J3u20E15v"
      }
    },
    {
      "cell_type": "code",
      "source": [
        "import numpy as np\n",
        "import seaborn as sns \n",
        "import matplotlib.pyplot as plt\n",
        "from sklearn.neighbors import KNeighborsClassifier\n",
        "from sklearn.ensemble import RandomForestClassifier\n",
        "from sklearn.model_selection import train_test_split\n",
        "from sklearn.preprocessing import StandardScaler\n",
        "from sklearn.model_selection import GridSearchCV,RandomizedSearchCV\n",
        "from sklearn import metrics"
      ],
      "metadata": {
        "id": "l5jsBq5epdfk"
      },
      "execution_count": null,
      "outputs": []
    },
    {
      "cell_type": "markdown",
      "source": [
        "## Substracting the data\n",
        "Since RandomForest have a lot of hyperparameters to tune, if we use the whole database for the training phase we will consume a lot of time. A common approach od to use a subset of the data to find the best parameters then apply them to the rest. The subset consists of *10000* rows"
      ],
      "metadata": {
        "id": "guJD4texE4R2"
      }
    },
    {
      "cell_type": "code",
      "source": [
        "df.shape"
      ],
      "metadata": {
        "colab": {
          "base_uri": "https://localhost:8080/"
        },
        "id": "iiAsw4WfO-_h",
        "outputId": "16b31862-93b5-4152-f61c-7104735adfae"
      },
      "execution_count": null,
      "outputs": [
        {
          "output_type": "execute_result",
          "data": {
            "text/plain": [
              "(77584, 77)"
            ]
          },
          "metadata": {},
          "execution_count": 5
        }
      ]
    },
    {
      "cell_type": "code",
      "source": [
        "sub_df = df.sample(n=10000)"
      ],
      "metadata": {
        "id": "UJFzAXBMO7l9"
      },
      "execution_count": null,
      "outputs": []
    },
    {
      "cell_type": "code",
      "source": [
        "sub_df.shape"
      ],
      "metadata": {
        "colab": {
          "base_uri": "https://localhost:8080/"
        },
        "id": "0ta1elXe2R8G",
        "outputId": "c0028140-00de-493e-e747-c43bbc22f5e4"
      },
      "execution_count": null,
      "outputs": [
        {
          "output_type": "execute_result",
          "data": {
            "text/plain": [
              "(10000, 77)"
            ]
          },
          "metadata": {},
          "execution_count": 7
        }
      ]
    },
    {
      "cell_type": "markdown",
      "source": [
        "## Splitting the Data into features (X) and labels (y) to be predicted "
      ],
      "metadata": {
        "id": "cRcl8v6UFVY9"
      }
    },
    {
      "cell_type": "code",
      "source": [
        "X= sub_df.drop(columns=['ListingCreationDate', 'DateCreditPulled','FirstRecordedCreditLine','IncomeRange','LoanOriginationDate','target','ClosedDate'])\n",
        "y = sub_df['target']"
      ],
      "metadata": {
        "id": "I5XwGO3mpfg_"
      },
      "execution_count": null,
      "outputs": []
    },
    {
      "cell_type": "markdown",
      "source": [
        "## Splitting the Data into a training test (80% of the data) and a test set (20% of the data)"
      ],
      "metadata": {
        "id": "C4pDYU3iFcGb"
      }
    },
    {
      "cell_type": "code",
      "source": [
        "X_train, X_test, y_train, y_test = train_test_split(X, y, test_size=0.2, random_state=19)"
      ],
      "metadata": {
        "id": "MmjjPkBcpiMT"
      },
      "execution_count": null,
      "outputs": []
    },
    {
      "cell_type": "code",
      "source": [
        "# param = {'max_depth': [6,9, None], \n",
        "#          'n_estimators':[50, 70, 100, 150], \n",
        "#           'max_features': randint(1,6),\n",
        "#           'criterion' : ['gini', 'entropy'],\n",
        "#           'bootstrap':[True, False],\n",
        "#           'mln_samples_leaf': randint(1,4)}"
      ],
      "metadata": {
        "id": "vYB3PYVtE7-u"
      },
      "execution_count": null,
      "outputs": []
    },
    {
      "cell_type": "markdown",
      "source": [
        "## Hyperparameter tuning using RandomizedSearchCV\n",
        "The Random Forest model  has several hyperparameters to tune. So applying GridSearchCV first is too complex and time consuming. Randomized Search allows us to limit the time that will be consumed on the GridSearch step."
      ],
      "metadata": {
        "id": "wRpVvhxkkNGS"
      }
    },
    {
      "cell_type": "code",
      "source": [
        "# Create a hyperparameter grid for the RandomizedSearchCV \n",
        "rf_grid = {\"n_estimators\": [100,500,1000],\n",
        "          \"max_depth\": [None,3,5,10],\n",
        "           \"min_samples_split\": [2,10,20],\n",
        "           \"min_samples_leaf\":[2,10,20],\n",
        "           \"bootstrap\" : [True, False]}"
      ],
      "metadata": {
        "id": "gJuIL9siBfcL"
      },
      "execution_count": null,
      "outputs": []
    },
    {
      "cell_type": "code",
      "source": [
        "# Applying RandomizedSearchCV on our data subset\n",
        "rs_rf = RandomizedSearchCV(RandomForestClassifier(),\n",
        "                               param_distributions = rf_grid,\n",
        "                               cv=5,\n",
        "                               n_iter=25,\n",
        "                                n_jobs=-1,\n",
        "                               verbose=2)\n",
        "# Fit random hyperparameter search model for RandomForest\n",
        "rs_rf.fit(X_train, y_train)"
      ],
      "metadata": {
        "colab": {
          "base_uri": "https://localhost:8080/"
        },
        "id": "KV1UxAZaGUZo",
        "outputId": "bebe9b94-5b6a-466a-f954-c9a9c55d573f"
      },
      "execution_count": null,
      "outputs": [
        {
          "output_type": "stream",
          "name": "stdout",
          "text": [
            "Fitting 5 folds for each of 25 candidates, totalling 125 fits\n"
          ]
        },
        {
          "output_type": "execute_result",
          "data": {
            "text/plain": [
              "RandomizedSearchCV(cv=5, estimator=RandomForestClassifier(), n_iter=25,\n",
              "                   n_jobs=-1,\n",
              "                   param_distributions={'bootstrap': [True, False],\n",
              "                                        'max_depth': [None, 3, 5, 10],\n",
              "                                        'min_samples_leaf': [2, 10, 20],\n",
              "                                        'min_samples_split': [2, 10, 20],\n",
              "                                        'n_estimators': [100, 500, 1000]},\n",
              "                   verbose=2)"
            ]
          },
          "metadata": {},
          "execution_count": 25
        }
      ]
    },
    {
      "cell_type": "code",
      "source": [
        "# Extracting the best parameters from the RandomizedSearchCV model\n",
        "\n",
        "rs_rf.best_params_"
      ],
      "metadata": {
        "colab": {
          "base_uri": "https://localhost:8080/"
        },
        "id": "DB0ArB_iMwYU",
        "outputId": "eb44ca89-9630-4515-cfef-fa47842216b0"
      },
      "execution_count": null,
      "outputs": [
        {
          "output_type": "execute_result",
          "data": {
            "text/plain": [
              "{'bootstrap': False,\n",
              " 'max_depth': 10,\n",
              " 'min_samples_leaf': 2,\n",
              " 'min_samples_split': 2,\n",
              " 'n_estimators': 100}"
            ]
          },
          "metadata": {},
          "execution_count": 26
        }
      ]
    },
    {
      "cell_type": "code",
      "source": [
        "# The test accuracy after using the best parameters\n",
        "rs_rf.score(X_test,y_test)"
      ],
      "metadata": {
        "colab": {
          "base_uri": "https://localhost:8080/"
        },
        "id": "YMtQ--SVM1tc",
        "outputId": "e2081b8f-ae07-41c3-9edb-87b779d9b21e"
      },
      "execution_count": null,
      "outputs": [
        {
          "output_type": "execute_result",
          "data": {
            "text/plain": [
              "0.9765"
            ]
          },
          "metadata": {},
          "execution_count": 27
        }
      ]
    },
    {
      "cell_type": "markdown",
      "source": [
        "## Hyperparameter tuning using GridSearchCV\n",
        "I used values that are close to the results provided by the random search done previously to see if we can find even better values"
      ],
      "metadata": {
        "id": "QcBwOcQHkF45"
      }
    },
    {
      "cell_type": "code",
      "source": [
        "# Create a hyperparameter grid for the GridSearchCV\n",
        "rf2_grid = {\"n_estimators\": [100,200],\n",
        "          \"max_depth\": [10,12],\n",
        "          \"min_samples_split\": [1,2,4],\n",
        "          \"min_samples_leaf\":[1,2,4]\n",
        "          }"
      ],
      "metadata": {
        "id": "ojXB3si1pj-x"
      },
      "execution_count": null,
      "outputs": []
    },
    {
      "cell_type": "code",
      "source": [
        "# Applying GridSearchCV on our data subset\n",
        "gs_rf = GridSearchCV(RandomForestClassifier(bootstrap=False),\n",
        "                         param_grid = rf2_grid,\n",
        "                         cv = 3,\n",
        "                         verbose=2,\n",
        "                     n_jobs=-1) #verbose to have outputs of what happening with GridSearchCV\n",
        "# Fit grid hyperparameter search for RandomForest\n",
        "gs_rf.fit(X_train,y_train)"
      ],
      "metadata": {
        "id": "nA8t1FMbpnXN"
      },
      "execution_count": null,
      "outputs": []
    },
    {
      "cell_type": "code",
      "source": [
        "# Extracting the best parameters from the GridSearchCV model\n",
        "gs_rf.best_params_"
      ],
      "metadata": {
        "colab": {
          "base_uri": "https://localhost:8080/"
        },
        "id": "ykDIqkyF9cAT",
        "outputId": "e26eab24-626f-471f-b760-c4c58e4c1f9d"
      },
      "execution_count": null,
      "outputs": [
        {
          "output_type": "execute_result",
          "data": {
            "text/plain": [
              "{'max_depth': 12,\n",
              " 'min_samples_leaf': 2,\n",
              " 'min_samples_split': 4,\n",
              " 'n_estimators': 100}"
            ]
          },
          "metadata": {},
          "execution_count": 31
        }
      ]
    },
    {
      "cell_type": "code",
      "source": [
        "# The training accuracy after using the best parameters\n",
        "gs_rf.score(X_train, y_train)"
      ],
      "metadata": {
        "colab": {
          "base_uri": "https://localhost:8080/"
        },
        "id": "tHZc7HJaRjFm",
        "outputId": "039e4010-ea3e-4bf9-a663-6bb016e440d0"
      },
      "execution_count": null,
      "outputs": [
        {
          "output_type": "execute_result",
          "data": {
            "text/plain": [
              "0.997375"
            ]
          },
          "metadata": {},
          "execution_count": 35
        }
      ]
    },
    {
      "cell_type": "code",
      "source": [
        "# The test accuracy after using the best parameters\n",
        "gs_rf.score(X_test,y_test)\n"
      ],
      "metadata": {
        "colab": {
          "base_uri": "https://localhost:8080/"
        },
        "id": "XU0qZ4bwpzMn",
        "outputId": "fa9a50fc-5743-4c1c-c05f-e45edff9471a"
      },
      "execution_count": null,
      "outputs": [
        {
          "output_type": "execute_result",
          "data": {
            "text/plain": [
              "0.978"
            ]
          },
          "metadata": {},
          "execution_count": 36
        }
      ]
    },
    {
      "cell_type": "markdown",
      "source": [
        "## Training the model on the whole data set"
      ],
      "metadata": {
        "id": "8YZ6FGR-rlli"
      }
    },
    {
      "cell_type": "code",
      "source": [
        "X= df.drop(columns=['ListingCreationDate', 'DateCreditPulled','FirstRecordedCreditLine','IncomeRange','LoanOriginationDate','target','ClosedDate'])\n",
        "y = df['target']"
      ],
      "metadata": {
        "id": "EuheG9AtSkaQ"
      },
      "execution_count": null,
      "outputs": []
    },
    {
      "cell_type": "code",
      "source": [
        "X_train, X_test, y_train, y_test = train_test_split(X, y, test_size=0.2, random_state=19)"
      ],
      "metadata": {
        "id": "jwF4VEnzrsF_"
      },
      "execution_count": null,
      "outputs": []
    },
    {
      "cell_type": "code",
      "source": [
        "model= RandomForestClassifier(bootstrap=False,max_depth= 12,min_samples_leaf= 2, min_samples_split= 4, n_estimators=100)\n",
        "model.fit(X_train,y_train)"
      ],
      "metadata": {
        "colab": {
          "base_uri": "https://localhost:8080/"
        },
        "id": "_WIS_lJssCBV",
        "outputId": "518e0bdc-3ede-4a95-ea49-1b2e45070d65"
      },
      "execution_count": null,
      "outputs": [
        {
          "output_type": "execute_result",
          "data": {
            "text/plain": [
              "RandomForestClassifier(bootstrap=False, max_depth=12, min_samples_leaf=2,\n",
              "                       min_samples_split=4)"
            ]
          },
          "metadata": {},
          "execution_count": 7
        }
      ]
    },
    {
      "cell_type": "code",
      "source": [
        "# The test accuracy after using the best parameters\n",
        "model.score(X_test,y_test)"
      ],
      "metadata": {
        "colab": {
          "base_uri": "https://localhost:8080/"
        },
        "id": "IsH8brPVsiUT",
        "outputId": "90fb2465-0630-4fec-bddf-6d873b34d526"
      },
      "execution_count": null,
      "outputs": [
        {
          "output_type": "execute_result",
          "data": {
            "text/plain": [
              "0.9794419024295934"
            ]
          },
          "metadata": {},
          "execution_count": 8
        }
      ]
    },
    {
      "cell_type": "code",
      "source": [
        ""
      ],
      "metadata": {
        "id": "J0eoeF-ptR4y"
      },
      "execution_count": null,
      "outputs": []
    }
  ]
}
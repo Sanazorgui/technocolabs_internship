{
  "nbformat": 4,
  "nbformat_minor": 0,
  "metadata": {
    "colab": {
      "name": "SZ_RandomF_ROI.ipynb",
      "provenance": [],
      "collapsed_sections": []
    },
    "kernelspec": {
      "name": "python3",
      "display_name": "Python 3"
    },
    "language_info": {
      "name": "python"
    }
  },
  "cells": [
    {
      "cell_type": "markdown",
      "source": [
        "# Problem statement\n",
        "  In this notebook we will train our  cleaned prosper Loan data on a **Random Forest** Model by applying the hyperparameter tuning options  used on the loanstatus to see how well the model performs in a regression situation\n"
      ],
      "metadata": {
        "id": "znRIKnMFokmp"
      }
    },
    {
      "cell_type": "code",
      "source": [
        "!pip install -U -q PyDrive\n",
        "\n",
        "from pydrive.auth import GoogleAuth\n",
        "from pydrive.drive import GoogleDrive\n",
        "from google.colab import auth\n",
        "from oauth2client.client import GoogleCredentials\n",
        "\n",
        "\n",
        "# Authenticate and create the PyDrive client.\n",
        "auth.authenticate_user()\n",
        "gauth = GoogleAuth()\n",
        "gauth.credentials = GoogleCredentials.get_application_default()\n",
        "drive = GoogleDrive(gauth)\n"
      ],
      "metadata": {
        "id": "i50Z7L7Lonx0"
      },
      "execution_count": 1,
      "outputs": []
    },
    {
      "cell_type": "code",
      "source": [
        "link = 'https://drive.google.com/file/d/1HsRMSs2A120li2AZgvAtyqXHLaDAiSgn/view?usp=sharing'\n",
        " \n",
        "import pandas as pd\n",
        " \n",
        "# to get the id part of the file\n",
        "id = link.split(\"/\")[-2]\n",
        " \n",
        "downloaded = drive.CreateFile({'id':id})\n",
        "downloaded.GetContentFile('xclara.csv') \n",
        " \n",
        "df = pd.read_csv('xclara.csv')"
      ],
      "metadata": {
        "id": "MOAu6bLeopnw"
      },
      "execution_count": 2,
      "outputs": []
    },
    {
      "cell_type": "markdown",
      "source": [
        "## Importing the necessary libraries for the modelling"
      ],
      "metadata": {
        "id": "YjiJOZvao4uw"
      }
    },
    {
      "cell_type": "code",
      "source": [
        "import numpy as np\n",
        "import seaborn as sns \n",
        "import matplotlib.pyplot as plt\n",
        "from sklearn.ensemble import RandomForestRegressor\n",
        "from sklearn.model_selection import train_test_split\n",
        "from sklearn.metrics import mean_squared_error, mean_absolute_error"
      ],
      "metadata": {
        "id": "k2ZQ2qWOoz4L"
      },
      "execution_count": 3,
      "outputs": []
    },
    {
      "cell_type": "markdown",
      "source": [
        "## Splitting the Data into features (X) and labels (y) to be predicted "
      ],
      "metadata": {
        "id": "fg8odjASpGuz"
      }
    },
    {
      "cell_type": "code",
      "source": [
        "X= df.drop(columns=['ListingCreationDate', 'DateCreditPulled','FirstRecordedCreditLine','IncomeRange','LoanOriginationDate','BorrowerRate','ClosedDate'])\n",
        "y = df['BorrowerRate']"
      ],
      "metadata": {
        "id": "LJxLB6l0pBII"
      },
      "execution_count": 4,
      "outputs": []
    },
    {
      "cell_type": "markdown",
      "source": [
        "## Splitting the Data into a training test (80% of the data) and a test set (20% of the data)"
      ],
      "metadata": {
        "id": "t05-nBxEpWCc"
      }
    },
    {
      "cell_type": "code",
      "source": [
        "X_train, X_test, y_train, y_test = train_test_split(X, y, test_size=0.2, random_state=19)"
      ],
      "metadata": {
        "id": "7Pz39VxnpSYJ"
      },
      "execution_count": 5,
      "outputs": []
    },
    {
      "cell_type": "markdown",
      "source": [
        "## Training the model "
      ],
      "metadata": {
        "id": "isR7bbvbpdOY"
      }
    },
    {
      "cell_type": "code",
      "source": [
        "model= RandomForestRegressor(bootstrap=False,max_depth= 12,min_samples_leaf= 2, min_samples_split= 4, n_estimators=100,n_jobs=-1)\n",
        "model.fit(X_train,y_train)"
      ],
      "metadata": {
        "colab": {
          "base_uri": "https://localhost:8080/"
        },
        "id": "w-efZTwmpZmU",
        "outputId": "966d95e6-33db-4a95-fe3a-6cec51c6c1f6"
      },
      "execution_count": 6,
      "outputs": [
        {
          "output_type": "execute_result",
          "data": {
            "text/plain": [
              "RandomForestRegressor(bootstrap=False, max_depth=12, min_samples_leaf=2,\n",
              "                      min_samples_split=4, n_jobs=-1)"
            ]
          },
          "metadata": {},
          "execution_count": 6
        }
      ]
    },
    {
      "cell_type": "code",
      "source": [
        "# The test accuracy after using the best parameters\n",
        "model.score(X_test,y_test)"
      ],
      "metadata": {
        "colab": {
          "base_uri": "https://localhost:8080/"
        },
        "id": "wx7iF3Tfp1-4",
        "outputId": "0b26411e-549f-4595-bb0c-485462564d29"
      },
      "execution_count": 7,
      "outputs": [
        {
          "output_type": "execute_result",
          "data": {
            "text/plain": [
              "0.9999874633470011"
            ]
          },
          "metadata": {},
          "execution_count": 7
        }
      ]
    },
    {
      "cell_type": "code",
      "source": [
        "y_preds = model.predict(X_test)"
      ],
      "metadata": {
        "id": "1HMRTfLLqdls"
      },
      "execution_count": 8,
      "outputs": []
    },
    {
      "cell_type": "code",
      "source": [
        "mean_squared_error(y_test, y_preds)"
      ],
      "metadata": {
        "colab": {
          "base_uri": "https://localhost:8080/"
        },
        "id": "xECrxsvvu-SW",
        "outputId": "305bbb46-b102-4329-e362-a4020243e083"
      },
      "execution_count": 9,
      "outputs": [
        {
          "output_type": "execute_result",
          "data": {
            "text/plain": [
              "6.736704159088905e-08"
            ]
          },
          "metadata": {},
          "execution_count": 9
        }
      ]
    },
    {
      "cell_type": "code",
      "source": [
        "mean_absolute_error(y_test, y_preds)"
      ],
      "metadata": {
        "colab": {
          "base_uri": "https://localhost:8080/"
        },
        "id": "1f6reRyXvDlc",
        "outputId": "4ec3edcc-c7c2-4998-ff3b-224b6e476faf"
      },
      "execution_count": 10,
      "outputs": [
        {
          "output_type": "execute_result",
          "data": {
            "text/plain": [
              "1.2623380249268381e-05"
            ]
          },
          "metadata": {},
          "execution_count": 10
        }
      ]
    },
    {
      "cell_type": "code",
      "source": [
        ""
      ],
      "metadata": {
        "id": "TrLpRsZj3hlu"
      },
      "execution_count": null,
      "outputs": []
    }
  ]
}
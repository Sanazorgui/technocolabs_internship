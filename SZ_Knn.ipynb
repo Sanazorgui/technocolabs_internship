{
  "nbformat": 4,
  "nbformat_minor": 0,
  "metadata": {
    "colab": {
      "name": "SZ_Knn.ipynb",
      "provenance": [],
      "collapsed_sections": []
    },
    "kernelspec": {
      "name": "python3",
      "display_name": "Python 3"
    },
    "language_info": {
      "name": "python"
    }
  },
  "cells": [
    {
      "cell_type": "markdown",
      "source": [
        "# Problem statement\n",
        "  In this notebook we will train our  cleaned prosper Loan data on a Knn Model by applying severeal hyperparameter tuning options  in order to reach the highest accuracy\n",
        "  Then we will compare the different parameters combinations in order to find the best results"
      ],
      "metadata": {
        "id": "04e6HWaZA-AU"
      }
    },
    {
      "cell_type": "code",
      "execution_count": null,
      "metadata": {
        "id": "5yMg9qhhSUHY"
      },
      "outputs": [],
      "source": [
        "!pip install -U -q PyDrive\n",
        "\n",
        "from pydrive.auth import GoogleAuth\n",
        "from pydrive.drive import GoogleDrive\n",
        "from google.colab import auth\n",
        "from oauth2client.client import GoogleCredentials\n",
        "\n",
        "\n",
        "# Authenticate and create the PyDrive client.\n",
        "auth.authenticate_user()\n",
        "gauth = GoogleAuth()\n",
        "gauth.credentials = GoogleCredentials.get_application_default()\n",
        "drive = GoogleDrive(gauth)\n"
      ]
    },
    {
      "cell_type": "markdown",
      "source": [
        "## Importing the cleaned CSV file"
      ],
      "metadata": {
        "id": "9QISImPlBZsU"
      }
    },
    {
      "cell_type": "code",
      "source": [
        "link = 'https://drive.google.com/file/d/1HsRMSs2A120li2AZgvAtyqXHLaDAiSgn/view?usp=sharing'\n",
        " \n",
        "import pandas as pd\n",
        " \n",
        "# to get the id part of the file\n",
        "id = link.split(\"/\")[-2]\n",
        " \n",
        "downloaded = drive.CreateFile({'id':id})\n",
        "downloaded.GetContentFile('xclara.csv') \n",
        " \n",
        "df = pd.read_csv('xclara.csv')"
      ],
      "metadata": {
        "id": "2AwQL5V8SWYB"
      },
      "execution_count": null,
      "outputs": []
    },
    {
      "cell_type": "markdown",
      "source": [
        "## Importing the necessary libraries for the modelling"
      ],
      "metadata": {
        "id": "CuBwsxasTBgn"
      }
    },
    {
      "cell_type": "code",
      "source": [
        "import numpy as np\n",
        "import seaborn as sns \n",
        "import matplotlib.pyplot as plt\n",
        "from sklearn.neighbors import KNeighborsClassifier\n",
        "from sklearn.ensemble import RandomForestClassifier\n",
        "from sklearn.model_selection import train_test_split\n",
        "from sklearn.preprocessing import StandardScaler\n",
        "from sklearn.model_selection import GridSearchCV\n",
        "from sklearn import metrics"
      ],
      "metadata": {
        "id": "naBM-sbgSehw"
      },
      "execution_count": null,
      "outputs": []
    },
    {
      "cell_type": "markdown",
      "source": [
        "## Splitting the Data into features (X) and labels (y) to be predicted "
      ],
      "metadata": {
        "id": "OvlNoQamTIle"
      }
    },
    {
      "cell_type": "code",
      "source": [
        "X= df.drop(columns=['ListingCreationDate', 'DateCreditPulled','FirstRecordedCreditLine','IncomeRange','LoanOriginationDate','target','ClosedDate'])\n",
        "y = df['target']"
      ],
      "metadata": {
        "id": "rCyfP9-3TJJu"
      },
      "execution_count": null,
      "outputs": []
    },
    {
      "cell_type": "markdown",
      "source": [
        "## Splitting the Data into a training test (80% of the data) and a test set (20% of the data)"
      ],
      "metadata": {
        "id": "G8Y1Jlg1TOiP"
      }
    },
    {
      "cell_type": "code",
      "source": [
        "X_train, X_test, y_train, y_test = train_test_split(X, y, test_size=0.2, random_state=19)"
      ],
      "metadata": {
        "id": "IOhFJQKcTLPw"
      },
      "execution_count": null,
      "outputs": []
    },
    {
      "cell_type": "markdown",
      "source": [
        "## Applying the KNN model on the Data\n",
        "In this step we applied a wide range of K values in order to find the best ones for our current problem"
      ],
      "metadata": {
        "id": "_xnKnNQrTlMI"
      }
    },
    {
      "cell_type": "code",
      "source": [
        "# calculating the accuracy of the model with different k values.\n",
        "mean_acc = np.zeros(20)\n",
        "for i in range(1,21):\n",
        "    #Training the model and predicting the test results  \n",
        "    knn = KNeighborsClassifier(n_neighbors = i).fit(X_train,y_train)\n",
        "    yhat= knn.predict(X_test)\n",
        "    mean_acc[i-1] = metrics.accuracy_score(y_test, yhat)\n",
        "\n",
        "mean_acc"
      ],
      "metadata": {
        "colab": {
          "base_uri": "https://localhost:8080/"
        },
        "id": "DPpX7ij7Tkfd",
        "outputId": "654e555c-94f2-4fbf-e578-df83c47e1662"
      },
      "execution_count": null,
      "outputs": [
        {
          "output_type": "execute_result",
          "data": {
            "text/plain": [
              "array([0.84062641, 0.84513759, 0.85996004, 0.85654444, 0.86021783,\n",
              "       0.85796223, 0.85950893, 0.85899336, 0.86047561, 0.85899336,\n",
              "       0.86176452, 0.85944448, 0.86015338, 0.85892892, 0.86034672,\n",
              "       0.85938003, 0.86124895, 0.85925114, 0.85950893, 0.8584778 ])"
            ]
          },
          "metadata": {},
          "execution_count": 8
        }
      ]
    },
    {
      "cell_type": "code",
      "source": [
        "#Plotting the accuracy scores according to each k value\n",
        "loc = np.arange(1,21,step=1.0)\n",
        "plt.figure(figsize = (10, 6))\n",
        "plt.plot(range(1,21), mean_acc)\n",
        "plt.xticks(loc)\n",
        "plt.xlabel('Number of Neighbors ')\n",
        "plt.ylabel('Accuracy')\n",
        "plt.show()"
      ],
      "metadata": {
        "colab": {
          "base_uri": "https://localhost:8080/",
          "height": 388
        },
        "id": "h2w3_sX5UMQZ",
        "outputId": "51b313c8-ac29-4845-88da-1ccc1982293a"
      },
      "execution_count": null,
      "outputs": [
        {
          "output_type": "display_data",
          "data": {
            "text/plain": [
              "<Figure size 720x432 with 1 Axes>"
            ],
            "image/png": "[encoded data removed]"
          },
          "metadata": {
            "needs_background": "light"
          }
        }
      ]
    },
    {
      "cell_type": "markdown",
      "source": [
        "## Applying GridSearchCV \n",
        "The Knn model usually dosen't have a lot of hyperparameters to be tuned. Therefore we used GridSearchCV without RandomizedSearchCV first to find the best parameters for our task while using the best k values obtained from the previous step"
      ],
      "metadata": {
        "id": "c1yuEG2VTSyF"
      }
    },
    {
      "cell_type": "code",
      "source": [
        "# Creating the parameters Grid \n",
        "grid_params = { 'n_neighbors' : [9,11,17],\n",
        "               'weights' : ['uniform','distance'],\n",
        "               'metric' : ['minkowski','euclidean','manhattan']}"
      ],
      "metadata": {
        "id": "c5XTolMWTXmW"
      },
      "execution_count": null,
      "outputs": []
    },
    {
      "cell_type": "code",
      "source": [
        "# Applying GridSearchCV on our data\n",
        "gs_knn = GridSearchCV(KNeighborsClassifier(),\n",
        "                         param_grid = grid_params,\n",
        "                         cv = 20,\n",
        "                         verbose=True) #verbose to have outputs of what happening with GridSearchCV\n",
        "# Fit grid hyperparameter search for LogisticRegression\n",
        "gs_knn.fit(X_train,y_train)"
      ],
      "metadata": {
        "colab": {
          "base_uri": "https://localhost:8080/"
        },
        "id": "DY9ejfNOVMrK",
        "outputId": "6e4e0feb-7920-4336-d1d1-dd538466911a"
      },
      "execution_count": null,
      "outputs": [
        {
          "metadata": {
            "tags": null
          },
          "name": "stdout",
          "output_type": "stream",
          "text": [
            "Fitting 20 folds for each of 18 candidates, totalling 360 fits\n"
          ]
        },
        {
          "output_type": "execute_result",
          "data": {
            "text/plain": [
              "GridSearchCV(cv=20, estimator=KNeighborsClassifier(),\n",
              "             param_grid={'metric': ['minkowski', 'euclidean', 'manhattan'],\n",
              "                         'n_neighbors': [9, 11, 17],\n",
              "                         'weights': ['uniform', 'distance']},\n",
              "             verbose=True)"
            ]
          },
          "metadata": {},
          "execution_count": 13
        }
      ]
    },
    {
      "cell_type": "code",
      "source": [
        "# Extracting the best parameters from the GridSearchCV model\n",
        "gs_knn.best_params_"
      ],
      "metadata": {
        "colab": {
          "base_uri": "https://localhost:8080/"
        },
        "id": "1NFpZ10w9Z1t",
        "outputId": "b65c8e23-c25c-4f7f-d4ad-69f9b1f6ecd4"
      },
      "execution_count": null,
      "outputs": [
        {
          "output_type": "execute_result",
          "data": {
            "text/plain": [
              "{'metric': 'manhattan', 'n_neighbors': 11, 'weights': 'distance'}"
            ]
          },
          "metadata": {},
          "execution_count": 14
        }
      ]
    },
    {
      "cell_type": "code",
      "source": [
        "# The test accuracy after using the best parameters\n",
        "gs_knn.score(X_test,y_test)"
      ],
      "metadata": {
        "colab": {
          "base_uri": "https://localhost:8080/"
        },
        "id": "hRShMZJ89bAq",
        "outputId": "1e291a1b-f657-411f-9e3e-961b07537d28"
      },
      "execution_count": null,
      "outputs": [
        {
          "output_type": "execute_result",
          "data": {
            "text/plain": [
              "0.8874138042147323"
            ]
          },
          "metadata": {},
          "execution_count": 15
        }
      ]
    },
    {
      "cell_type": "code",
      "source": [
        "# Trying a different k value to see if the accuracy improves\n",
        "model = KNeighborsClassifier(metric='manhattan',n_neighbors= 10,weights='distance')\n",
        "model.fit(X_train, y_train)\n",
        "print('Training accuracy:', model.score(X_train, y_train))\n",
        "print('Test accuracy:', model.score(X_test, y_test))\n",
        "print('')\n"
      ],
      "metadata": {
        "colab": {
          "base_uri": "https://localhost:8080/"
        },
        "id": "G-5cVPHbKG8_",
        "outputId": "57c9bfb2-4364-4217-b3ae-14b8a7e6971b"
      },
      "execution_count": null,
      "outputs": [
        {
          "output_type": "stream",
          "name": "stdout",
          "text": [
            "Training accuracy: 1.0\n",
            "Test accuracy: 0.8903138493265451\n",
            "\n"
          ]
        }
      ]
    },
    {
      "cell_type": "markdown",
      "source": [
        "Since changing the k value again improved the acc a little. I decided to hypertune the k values again to see if we can make it even better"
      ],
      "metadata": {
        "id": "lRM45zqkDG52"
      }
    },
    {
      "cell_type": "markdown",
      "source": [
        "### Hypertuning the n_neighbors parameter\n",
        "\n",
        "\n"
      ],
      "metadata": {
        "id": "VioOfXOVUNS1"
      }
    },
    {
      "cell_type": "code",
      "source": [
        "# Creating the parameters Grid \n",
        "grid_params = { 'n_neighbors' : [10,11,12,13,14]\n",
        "               }"
      ],
      "metadata": {
        "id": "YH1bzj9RTHHg"
      },
      "execution_count": null,
      "outputs": []
    },
    {
      "cell_type": "code",
      "source": [
        "# Testing with different k values and applying GridSearchCV on our data\n",
        "gs_knn = GridSearchCV(KNeighborsClassifier(metric='manhattan',weights='distance'),\n",
        "                         param_grid = grid_params,\n",
        "                         cv = 5,\n",
        "                         verbose=2,\n",
        "                      n_jobs=-1) #verbose to have outputs of what happening with GridSearchCV\n",
        "# Fit grid hyperparameter search for LogisticRegression\n",
        "gs_knn.fit(X_train,y_train)"
      ],
      "metadata": {
        "id": "p5P4YN7lF3yM",
        "colab": {
          "base_uri": "https://localhost:8080/"
        },
        "outputId": "db23f73b-667e-4fcd-8389-7a712d3d47c1"
      },
      "execution_count": null,
      "outputs": [
        {
          "output_type": "stream",
          "name": "stdout",
          "text": [
            "Fitting 5 folds for each of 5 candidates, totalling 25 fits\n"
          ]
        },
        {
          "output_type": "execute_result",
          "data": {
            "text/plain": [
              "GridSearchCV(cv=5,\n",
              "             estimator=KNeighborsClassifier(metric='manhattan',\n",
              "                                            weights='distance'),\n",
              "             n_jobs=-1, param_grid={'n_neighbors': [10, 11, 12, 13, 14]},\n",
              "             verbose=2)"
            ]
          },
          "metadata": {},
          "execution_count": 10
        }
      ]
    },
    {
      "cell_type": "code",
      "source": [
        "# Extracting the best parameters from the GridSearchCV model\n",
        "gs_knn.best_params_"
      ],
      "metadata": {
        "id": "VE4AstA7J65v",
        "colab": {
          "base_uri": "https://localhost:8080/"
        },
        "outputId": "e4d88cd7-e591-415e-e1a0-3c5fac931c24"
      },
      "execution_count": null,
      "outputs": [
        {
          "output_type": "execute_result",
          "data": {
            "text/plain": [
              "{'n_neighbors': 10}"
            ]
          },
          "metadata": {},
          "execution_count": 11
        }
      ]
    },
    {
      "cell_type": "code",
      "source": [
        "# The test accuracy after using the best parameters\n",
        "gs_knn.score(X_test,y_test)"
      ],
      "metadata": {
        "id": "QShP9UIjKlqN",
        "colab": {
          "base_uri": "https://localhost:8080/"
        },
        "outputId": "17d7399e-68a7-4c60-82be-dc0f883b6e73"
      },
      "execution_count": null,
      "outputs": [
        {
          "output_type": "execute_result",
          "data": {
            "text/plain": [
              "0.8903138493265451"
            ]
          },
          "metadata": {},
          "execution_count": 12
        }
      ]
    }
  ]
}